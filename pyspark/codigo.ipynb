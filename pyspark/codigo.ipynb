{
 "cells": [
  {
   "cell_type": "code",
   "execution_count": 16,
   "id": "ff28c0f6-2b25-461e-af91-743924c7b52a",
   "metadata": {},
   "outputs": [],
   "source": [
    "# Importando bibliotecas\n",
    "import requests    # Para fazer a conexao com a pagina\n",
    "import re    # Para utilizar expressoes regulares \n",
    "import pandas as pd    # Para trabalhar com tabelas\n",
    "import numpy as np\n",
    "import wget    \n",
    "import zipfile\n",
    "import csv\n",
    "import codecs\n",
    "import os\n",
    "\n",
    "from pyspark.sql import SparkSession\n",
    "import warnings\n",
    "warnings.filterwarnings(\"ignore\")\n",
    "\n",
    "from IPython.core.display import HTML"
   ]
  },
  {
   "cell_type": "code",
   "execution_count": 2,
   "id": "46554a4c-cd1f-472d-bc62-85411f3d8509",
   "metadata": {},
   "outputs": [
    {
     "data": {
      "text/html": [
       "\n",
       "            <div>\n",
       "                <p><b>SparkSession - in-memory</b></p>\n",
       "                \n",
       "        <div>\n",
       "            <p><b>SparkContext</b></p>\n",
       "\n",
       "            <p><a href=\"http://DESKTOP-4QJA4M0.mshome.net:4040\">Spark UI</a></p>\n",
       "\n",
       "            <dl>\n",
       "              <dt>Version</dt>\n",
       "                <dd><code>v3.2.1</code></dd>\n",
       "              <dt>Master</dt>\n",
       "                <dd><code>local[*]</code></dd>\n",
       "              <dt>AppName</dt>\n",
       "                <dd><code>Dataframe</code></dd>\n",
       "            </dl>\n",
       "        </div>\n",
       "        \n",
       "            </div>\n",
       "        "
      ],
      "text/plain": [
       "<pyspark.sql.session.SparkSession at 0x1ef7453e0a0>"
      ]
     },
     "execution_count": 2,
     "metadata": {},
     "output_type": "execute_result"
    }
   ],
   "source": [
    "spark = SparkSession.builder.appName('Dataframe').getOrCreate()\n",
    "spark"
   ]
  },
  {
   "cell_type": "code",
   "execution_count": 3,
   "id": "d318884e-21cf-42a0-9123-6ebb3c1a165e",
   "metadata": {},
   "outputs": [
    {
     "data": {
      "text/html": [
       "<style>pre { white-space: pre !important; }</style>"
      ],
      "text/plain": [
       "<IPython.core.display.HTML object>"
      ]
     },
     "metadata": {},
     "output_type": "display_data"
    }
   ],
   "source": [
    "display(HTML(\"<style>pre { white-space: pre !important; }</style>\"))"
   ]
  },
  {
   "cell_type": "code",
   "execution_count": 3,
   "id": "c98452eb-a5a4-43d4-8d15-111983ddc9e4",
   "metadata": {},
   "outputs": [
    {
     "data": {
      "text/plain": [
       "\"\\nestado = ['AC','AL','AM','AP','BA','CE','DF','ES','GO','MA','MG','MS','MT','PA','PB','PE','PI','PR','RJ','RN','RO','RR','RS','SC','SE','SP','TO']\\n\""
      ]
     },
     "execution_count": 3,
     "metadata": {},
     "output_type": "execute_result"
    }
   ],
   "source": [
    "\"\"\"\n",
    "estado = ['AC','AL','AM','AP','BA','CE','DF','ES','GO','MA','MG','MS','MT','PA','PB','PE','PI','PR','RJ','RN','RO','RR','RS','SC','SE','SP','TO']\n",
    "\"\"\""
   ]
  },
  {
   "cell_type": "code",
   "execution_count": 4,
   "id": "29ff3663-f6c3-42dc-9f00-c7bc00ffa86c",
   "metadata": {},
   "outputs": [
    {
     "data": {
      "text/plain": [
       "\"\\nmes = ['01','02','03','04','05','06','07','08','09','10','11','12']\\n\\n\""
      ]
     },
     "execution_count": 4,
     "metadata": {},
     "output_type": "execute_result"
    }
   ],
   "source": [
    "\"\"\"\n",
    "mes = ['01','02','03','04','05','06','07','08','09','10','11','12']\n",
    "\n",
    "\"\"\""
   ]
  },
  {
   "cell_type": "code",
   "execution_count": 5,
   "id": "20c0d7ff-f8f7-4335-8712-c219941cb9ff",
   "metadata": {},
   "outputs": [
    {
     "data": {
      "text/plain": [
       "\"\\ntp = ['CONS', 'DET']\\n\\n\""
      ]
     },
     "execution_count": 5,
     "metadata": {},
     "output_type": "execute_result"
    }
   ],
   "source": [
    "\"\"\"\n",
    "tp = ['CONS', 'DET']\n",
    "\n",
    "\"\"\""
   ]
  },
  {
   "cell_type": "code",
   "execution_count": 6,
   "id": "449299e4-cfde-480c-b7d5-d1e81403a84e",
   "metadata": {},
   "outputs": [
    {
     "data": {
      "text/plain": [
       "'\\n\\nfor t in tp:\\n    with open(f\\'Tab{t}.csv\\', \\'w\\', encoding=\"utf-8\", newline=\\'\\') as Tabell:\\n        escrever = csv.writer(Tabell)\\n        indi = 1\\n        for est in estado:\\n            for me in mes:\\n                pagina = f\"http://ftp.dadosabertos.ans.gov.br/FTP/PDA/TISS/HOSPITALAR/2019/{est}/{est}_2019{me}_HOSP_{t}.zip\"\\n                arquivo = wget.download(pagina, bar = None)\\n                try:\\n                    with zipfile.ZipFile(arquivo) as zipado:\\n                        arqcsv = str(arquivo)[0:-3]+\\'csv\\'\\n                        with zipado.open(arqcsv,mode=\\'r\\') as tabelacsv:\\n                            for linha in csv.DictReader(codecs.iterdecode(tabelacsv, \\'utf-8\\'), delimiter=\\',\\'):\\n                                indice = list(linha.keys())[0].split(\\';\\')\\n                                valor = list(linha.values())[0].split(\\';\\')\\n                                if indi:\\n                                    escrever.writerow(indice)\\n                                    indi = 0\\n                                escrever.writerow(valor)\\n                    \\n                except:\\n                    print(f\"Erro no arquivo {str(arquivo)}\")\\n                    os.remove(arquivo)\\n                    break\\n                os.remove(arquivo)\\nelse:\\n    TabCons = pd.read_csv(\\'TabCONS.csv\\')\\n    TabDet = pd.read_csv(\\'TabDET.csv\\')\\n    comb = pd.merge(TabCons, TabDet, how = \\'inner\\', on = \\'ID_EVENTO_ATENCAO_SAUDE\\')\\n    comb.to_csv(\\'UniTabela.csv\\', encoding = \"utf-8\", index = False)\\n    \\n'"
      ]
     },
     "execution_count": 6,
     "metadata": {},
     "output_type": "execute_result"
    }
   ],
   "source": [
    "\"\"\"\n",
    "\n",
    "for t in tp:\n",
    "    with open(f'Tab{t}.csv', 'w', encoding=\"utf-8\", newline='') as Tabell:\n",
    "        escrever = csv.writer(Tabell)\n",
    "        indi = 1\n",
    "        for est in estado:\n",
    "            for me in mes:\n",
    "                pagina = f\"http://ftp.dadosabertos.ans.gov.br/FTP/PDA/TISS/HOSPITALAR/2019/{est}/{est}_2019{me}_HOSP_{t}.zip\"\n",
    "                arquivo = wget.download(pagina, bar = None)\n",
    "                try:\n",
    "                    with zipfile.ZipFile(arquivo) as zipado:\n",
    "                        arqcsv = str(arquivo)[0:-3]+'csv'\n",
    "                        with zipado.open(arqcsv,mode='r') as tabelacsv:\n",
    "                            for linha in csv.DictReader(codecs.iterdecode(tabelacsv, 'utf-8'), delimiter=','):\n",
    "                                indice = list(linha.keys())[0].split(';')\n",
    "                                valor = list(linha.values())[0].split(';')\n",
    "                                if indi:\n",
    "                                    escrever.writerow(indice)\n",
    "                                    indi = 0\n",
    "                                escrever.writerow(valor)\n",
    "                    \n",
    "                except:\n",
    "                    print(f\"Erro no arquivo {str(arquivo)}\")\n",
    "                    os.remove(arquivo)\n",
    "                    break\n",
    "                os.remove(arquivo)\n",
    "else:\n",
    "    TabCons = pd.read_csv('TabCONS.csv')\n",
    "    TabDet = pd.read_csv('TabDET.csv')\n",
    "    comb = pd.merge(TabCons, TabDet, how = 'inner', on = 'ID_EVENTO_ATENCAO_SAUDE')\n",
    "    comb.to_csv('UniTabela.csv', encoding = \"utf-8\", index = False)\n",
    "    \n",
    "\"\"\""
   ]
  },
  {
   "cell_type": "code",
   "execution_count": 3,
   "id": "afd21848-42a7-4077-9689-383e787320bd",
   "metadata": {},
   "outputs": [],
   "source": [
    "dadosdet = spark.read.csv('TabDET.csv',header=True, inferSchema=True, sep=',')\n",
    "dadoscons = spark.read.csv('TabCONS.csv',header=True, inferSchema=True, sep=',')"
   ]
  },
  {
   "cell_type": "code",
   "execution_count": 8,
   "id": "2d0ff30d-6cd0-4540-b377-ab48df39d7b8",
   "metadata": {},
   "outputs": [
    {
     "name": "stdout",
     "output_type": "stream",
     "text": [
      "root\n",
      " |-- ID_EVENTO_ATENCAO_SAUDE: long (nullable = true)\n",
      " |-- UF_PRESTADOR: string (nullable = true)\n",
      " |-- TEMPO_DE_PERMANENCIA: double (nullable = true)\n",
      " |-- ANO_MES_EVENTO: string (nullable = true)\n",
      " |-- CD_PROCEDIMENTO: string (nullable = true)\n",
      " |-- CD_TABELA_REFERENCIA: integer (nullable = true)\n",
      " |-- QT_ITEM_EVENTO_INFORMADO: integer (nullable = true)\n",
      " |-- VL_ITEM_EVENTO_INFORMADO: integer (nullable = true)\n",
      " |-- VL_ITEM_PAGO_FORNECEDOR: integer (nullable = true)\n",
      " |-- IND_PACOTE: integer (nullable = true)\n",
      " |-- IND_TABELA_PROPRIA: integer (nullable = true)\n",
      "\n"
     ]
    }
   ],
   "source": [
    "dadosdet.printSchema()"
   ]
  },
  {
   "cell_type": "code",
   "execution_count": 9,
   "id": "b307ac3f-9e32-457a-9f98-6257cdaaa6d6",
   "metadata": {},
   "outputs": [
    {
     "name": "stdout",
     "output_type": "stream",
     "text": [
      "root\n",
      " |-- ID_EVENTO_ATENCAO_SAUDE: long (nullable = true)\n",
      " |-- ID_PLANO: integer (nullable = true)\n",
      " |-- FAIXA_ETARIA: string (nullable = true)\n",
      " |-- SEXO: string (nullable = true)\n",
      " |-- CD_MUNICIPIO_BENEFICIARIO: integer (nullable = true)\n",
      " |-- PORTE: string (nullable = true)\n",
      " |-- CD_MODALIDADE: integer (nullable = true)\n",
      " |-- NM_MODALIDADE: string (nullable = true)\n",
      " |-- CD_MUNICIPIO_PRESTADOR: integer (nullable = true)\n",
      " |-- UF_PRESTADOR: string (nullable = true)\n",
      " |-- TEMPO_DE_PERMANENCIA: integer (nullable = true)\n",
      " |-- ANO_MES_EVENTO: string (nullable = true)\n",
      " |-- CD_CARATER_ATENDIMENTO: integer (nullable = true)\n",
      " |-- CD_TIPO_INTERNACAO: integer (nullable = true)\n",
      " |-- CD_REGIME_INTERNACAO: integer (nullable = true)\n",
      " |-- CD_MOTIVO_SAIDA: integer (nullable = true)\n",
      " |-- CID_1: string (nullable = true)\n",
      " |-- CID_2: string (nullable = true)\n",
      " |-- CID_3: string (nullable = true)\n",
      " |-- CID_4: string (nullable = true)\n",
      " |-- QT_DIARIA_ACOMPANHANTE: integer (nullable = true)\n",
      " |-- QT_DIARIA_UTI: integer (nullable = true)\n",
      " |-- IND_ACIDENTE_DOENCA: integer (nullable = true)\n",
      " |-- LG_VALOR_PREESTABELECIDO: integer (nullable = true)\n",
      "\n"
     ]
    }
   ],
   "source": [
    "dadoscons.printSchema()"
   ]
  },
  {
   "cell_type": "code",
   "execution_count": 10,
   "id": "e02c5dba-9aac-4f05-bfa7-2fcb920caed1",
   "metadata": {
    "scrolled": true,
    "tags": []
   },
   "outputs": [
    {
     "data": {
      "text/html": [
       "<style>pre { white-space: pre !important; }</style>"
      ],
      "text/plain": [
       "<IPython.core.display.HTML object>"
      ]
     },
     "metadata": {},
     "output_type": "display_data"
    },
    {
     "data": {
      "text/plain": [
       "[Row(ID_EVENTO_ATENCAO_SAUDE=2360654932, UF_PRESTADOR='AC', TEMPO_DE_PERMANENCIA=27.0, ANO_MES_EVENTO='2019-01', CD_PROCEDIMENTO='40307026', CD_TABELA_REFERENCIA=22, QT_ITEM_EVENTO_INFORMADO=1, VL_ITEM_EVENTO_INFORMADO=96, VL_ITEM_PAGO_FORNECEDOR=0, IND_PACOTE=0, IND_TABELA_PROPRIA=0),\n",
       " Row(ID_EVENTO_ATENCAO_SAUDE=2360654932, UF_PRESTADOR='AC', TEMPO_DE_PERMANENCIA=27.0, ANO_MES_EVENTO='2019-01', CD_PROCEDIMENTO='40307182', CD_TABELA_REFERENCIA=22, QT_ITEM_EVENTO_INFORMADO=1, VL_ITEM_EVENTO_INFORMADO=48, VL_ITEM_PAGO_FORNECEDOR=0, IND_PACOTE=0, IND_TABELA_PROPRIA=0),\n",
       " Row(ID_EVENTO_ATENCAO_SAUDE=2360654932, UF_PRESTADOR='AC', TEMPO_DE_PERMANENCIA=27.0, ANO_MES_EVENTO='2019-01', CD_PROCEDIMENTO='40307212', CD_TABELA_REFERENCIA=22, QT_ITEM_EVENTO_INFORMADO=1, VL_ITEM_EVENTO_INFORMADO=30, VL_ITEM_PAGO_FORNECEDOR=0, IND_PACOTE=0, IND_TABELA_PROPRIA=0),\n",
       " Row(ID_EVENTO_ATENCAO_SAUDE=2360654932, UF_PRESTADOR='AC', TEMPO_DE_PERMANENCIA=27.0, ANO_MES_EVENTO='2019-01', CD_PROCEDIMENTO='40307760', CD_TABELA_REFERENCIA=22, QT_ITEM_EVENTO_INFORMADO=1, VL_ITEM_EVENTO_INFORMADO=4, VL_ITEM_PAGO_FORNECEDOR=None, IND_PACOTE=None, IND_TABELA_PROPRIA=None),\n",
       " Row(ID_EVENTO_ATENCAO_SAUDE=2360654932, UF_PRESTADOR='AC', TEMPO_DE_PERMANENCIA=27.0, ANO_MES_EVENTO='2019-01', CD_PROCEDIMENTO='40308391', CD_TABELA_REFERENCIA=22, QT_ITEM_EVENTO_INFORMADO=1, VL_ITEM_EVENTO_INFORMADO=96, VL_ITEM_PAGO_FORNECEDOR=None, IND_PACOTE=None, IND_TABELA_PROPRIA=None)]"
      ]
     },
     "execution_count": 10,
     "metadata": {},
     "output_type": "execute_result"
    }
   ],
   "source": [
    "dadosdet.head(5)"
   ]
  },
  {
   "cell_type": "code",
   "execution_count": 11,
   "id": "6654fdad-bffd-4953-8ff1-6df65fd8e411",
   "metadata": {},
   "outputs": [
    {
     "data": {
      "text/html": [
       "<style>pre { white-space: pre !important; }</style>"
      ],
      "text/plain": [
       "<IPython.core.display.HTML object>"
      ]
     },
     "metadata": {},
     "output_type": "display_data"
    },
    {
     "name": "stdout",
     "output_type": "stream",
     "text": [
      "+-----------------------+--------+------------+---------+-------------------------+-----+-------------+------------------+----------------------+------------+--------------------+--------------+----------------------+------------------+--------------------+---------------+-----+-----+-----+-----+----------------------+-------------+-------------------+------------------------+\n",
      "|ID_EVENTO_ATENCAO_SAUDE|ID_PLANO|FAIXA_ETARIA|     SEXO|CD_MUNICIPIO_BENEFICIARIO|PORTE|CD_MODALIDADE|     NM_MODALIDADE|CD_MUNICIPIO_PRESTADOR|UF_PRESTADOR|TEMPO_DE_PERMANENCIA|ANO_MES_EVENTO|CD_CARATER_ATENDIMENTO|CD_TIPO_INTERNACAO|CD_REGIME_INTERNACAO|CD_MOTIVO_SAIDA|CID_1|CID_2|CID_3|CID_4|QT_DIARIA_ACOMPANHANTE|QT_DIARIA_UTI|IND_ACIDENTE_DOENCA|LG_VALOR_PREESTABELECIDO|\n",
      "+-----------------------+--------+------------+---------+-------------------------+-----+-------------+------------------+----------------------+------------+--------------------+--------------+----------------------+------------------+--------------------+---------------+-----+-----+-----+-----+----------------------+-------------+-------------------+------------------------+\n",
      "|             2289170847|  194977|     30 a 39|Masculino|                   120040|MÉDIO|           22|Cooperativa Médica|                120040|          AC|                   1|       2019-01|                     1|                 2|                   1|             11|  K21| null| null| null|                     0|            0|                  2|                       0|\n",
      "|             2360654786|  192464|     70 a 79| Feminino|                   120040|MÉDIO|           22|Cooperativa Médica|                120040|          AC|                  59|       2019-01|                     2|                 1|                   1|             11| null| null| null| null|                     0|            0|                  2|                       0|\n",
      "|             2360654950|  188256|     70 a 79| Feminino|                   120040|MÉDIO|           22|Cooperativa Médica|                120040|          AC|                   5|       2019-01|                     1|                 2|                   1|             11| null| null| null| null|                     0|            0|                  2|                       0|\n",
      "|             2360654812|  192464|     70 a 79| Feminino|                   120040|MÉDIO|           22|Cooperativa Médica|                120040|          AC|                   2|       2019-01|                     2|                 1|                   1|             11| null| null| null| null|                     0|            0|                  2|                       0|\n",
      "|             2360654940|  170539|     40 a 49| Feminino|                   120040|MÉDIO|           22|Cooperativa Médica|                120040|          AC|                   1|       2019-01|                     1|                 2|                   1|             11| null| null| null| null|                     0|            0|                  2|                       0|\n",
      "+-----------------------+--------+------------+---------+-------------------------+-----+-------------+------------------+----------------------+------------+--------------------+--------------+----------------------+------------------+--------------------+---------------+-----+-----+-----+-----+----------------------+-------------+-------------------+------------------------+\n",
      "only showing top 5 rows\n",
      "\n"
     ]
    }
   ],
   "source": [
    "dadoscons.show(5)"
   ]
  },
  {
   "cell_type": "code",
   "execution_count": 12,
   "id": "e88a1cf6-9975-47f5-bfc8-c77cb1d34e47",
   "metadata": {},
   "outputs": [
    {
     "data": {
      "text/plain": [
       "39926392"
      ]
     },
     "execution_count": 12,
     "metadata": {},
     "output_type": "execute_result"
    }
   ],
   "source": [
    "dadosdet.count(), dadoscons.count()"
   ]
  },
  {
   "cell_type": "code",
   "execution_count": 14,
   "id": "2f5ce7d9-39ab-47e1-86d3-ee99b4502085",
   "metadata": {},
   "outputs": [
    {
     "name": "stdout",
     "output_type": "stream",
     "text": [
      "+-----------------------+------------+--------------------+--------------+---------------+--------------------+------------------------+------------------------+-----------------------+----------+------------------+\n",
      "|ID_EVENTO_ATENCAO_SAUDE|UF_PRESTADOR|TEMPO_DE_PERMANENCIA|ANO_MES_EVENTO|CD_PROCEDIMENTO|CD_TABELA_REFERENCIA|QT_ITEM_EVENTO_INFORMADO|VL_ITEM_EVENTO_INFORMADO|VL_ITEM_PAGO_FORNECEDOR|IND_PACOTE|IND_TABELA_PROPRIA|\n",
      "+-----------------------+------------+--------------------+--------------+---------------+--------------------+------------------------+------------------------+-----------------------+----------+------------------+\n",
      "|             2289170847|          AC|                 1.0|       2019-01| TABELA PRÓPRIA|                   0|                      47|                    2333|                   null|      null|              null|\n",
      "|             2289170847|          AC|                 1.0|       2019-01|            030|                  63|                     124|                    1244|                   null|      null|              null|\n",
      "|             2289170847|          AC|                 1.0|       2019-01|            031|                  63|                       8|                    3363|                   null|      null|              null|\n",
      "|             2289170847|          AC|                 1.0|       2019-01|            029|                  63|                     104|                     509|                   null|      null|              null|\n",
      "|             2289170847|          AC|                 1.0|       2019-01|       31001360|                  22|                       1|                     746|                   null|      null|              null|\n",
      "+-----------------------+------------+--------------------+--------------+---------------+--------------------+------------------------+------------------------+-----------------------+----------+------------------+\n",
      "\n"
     ]
    }
   ],
   "source": [
    "dadosdet.filter('ID_EVENTO_ATENCAO_SAUDE = 2289170847').show()"
   ]
  },
  {
   "cell_type": "code",
   "execution_count": 15,
   "id": "49d703fe-6fcd-41e2-ba10-eab7cd045cc4",
   "metadata": {},
   "outputs": [
    {
     "name": "stdout",
     "output_type": "stream",
     "text": [
      "+-----------------------+--------+------------+---------+-------------------------+-----+-------------+------------------+----------------------+------------+--------------------+--------------+----------------------+------------------+--------------------+---------------+-----+-----+-----+-----+----------------------+-------------+-------------------+------------------------+\n",
      "|ID_EVENTO_ATENCAO_SAUDE|ID_PLANO|FAIXA_ETARIA|     SEXO|CD_MUNICIPIO_BENEFICIARIO|PORTE|CD_MODALIDADE|     NM_MODALIDADE|CD_MUNICIPIO_PRESTADOR|UF_PRESTADOR|TEMPO_DE_PERMANENCIA|ANO_MES_EVENTO|CD_CARATER_ATENDIMENTO|CD_TIPO_INTERNACAO|CD_REGIME_INTERNACAO|CD_MOTIVO_SAIDA|CID_1|CID_2|CID_3|CID_4|QT_DIARIA_ACOMPANHANTE|QT_DIARIA_UTI|IND_ACIDENTE_DOENCA|LG_VALOR_PREESTABELECIDO|\n",
      "+-----------------------+--------+------------+---------+-------------------------+-----+-------------+------------------+----------------------+------------+--------------------+--------------+----------------------+------------------+--------------------+---------------+-----+-----+-----+-----+----------------------+-------------+-------------------+------------------------+\n",
      "|             2289170847|  194977|     30 a 39|Masculino|                   120040|MÉDIO|           22|Cooperativa Médica|                120040|          AC|                   1|       2019-01|                     1|                 2|                   1|             11|  K21| null| null| null|                     0|            0|                  2|                       0|\n",
      "+-----------------------+--------+------------+---------+-------------------------+-----+-------------+------------------+----------------------+------------+--------------------+--------------+----------------------+------------------+--------------------+---------------+-----+-----+-----+-----+----------------------+-------------+-------------------+------------------------+\n",
      "\n"
     ]
    }
   ],
   "source": [
    "dadoscons.filter('ID_EVENTO_ATENCAO_SAUDE = 2289170847').show()"
   ]
  },
  {
   "cell_type": "code",
   "execution_count": 16,
   "id": "8ec07ab8-f0e0-402b-99b5-f52a6da1c77d",
   "metadata": {},
   "outputs": [
    {
     "data": {
      "text/plain": [
       "(11, 24)"
      ]
     },
     "execution_count": 16,
     "metadata": {},
     "output_type": "execute_result"
    }
   ],
   "source": [
    "len(dadosdet.columns) , len(dadoscons.columns)"
   ]
  },
  {
   "cell_type": "code",
   "execution_count": 17,
   "id": "a2c43b23-e4c4-4de5-85e7-26b50921a208",
   "metadata": {},
   "outputs": [
    {
     "name": "stdout",
     "output_type": "stream",
     "text": [
      "ID_EVENTO_ATENCAO_SAUDE\n",
      "UF_PRESTADOR\n",
      "TEMPO_DE_PERMANENCIA\n",
      "ANO_MES_EVENTO\n"
     ]
    }
   ],
   "source": [
    "for i in dadoscons.columns:\n",
    "    if i in dadosdet.columns: print(i)"
   ]
  },
  {
   "cell_type": "code",
   "execution_count": 4,
   "id": "33e09bc3-81e7-4af4-9334-22a6977bf688",
   "metadata": {},
   "outputs": [],
   "source": [
    "dados = dadoscons.join(dadosdet, [\"ID_EVENTO_ATENCAO_SAUDE\", \"UF_PRESTADOR\", \"TEMPO_DE_PERMANENCIA\", \"ANO_MES_EVENTO\"] , \"full\")\n",
    "del dadosdet\n",
    "del dadoscons"
   ]
  },
  {
   "cell_type": "code",
   "execution_count": 21,
   "id": "a9832835-915c-43f1-9b6f-7cafa8217043",
   "metadata": {},
   "outputs": [
    {
     "name": "stdout",
     "output_type": "stream",
     "text": [
      "+-----------------------+------------+--------------------+--------------+--------+------------+---------+-------------------------+-----+-------------+------------------+----------------------+----------------------+------------------+--------------------+---------------+-----+-----+-----+-----+----------------------+-------------+-------------------+------------------------+---------------+--------------------+------------------------+------------------------+-----------------------+----------+------------------+\n",
      "|ID_EVENTO_ATENCAO_SAUDE|UF_PRESTADOR|TEMPO_DE_PERMANENCIA|ANO_MES_EVENTO|ID_PLANO|FAIXA_ETARIA|     SEXO|CD_MUNICIPIO_BENEFICIARIO|PORTE|CD_MODALIDADE|     NM_MODALIDADE|CD_MUNICIPIO_PRESTADOR|CD_CARATER_ATENDIMENTO|CD_TIPO_INTERNACAO|CD_REGIME_INTERNACAO|CD_MOTIVO_SAIDA|CID_1|CID_2|CID_3|CID_4|QT_DIARIA_ACOMPANHANTE|QT_DIARIA_UTI|IND_ACIDENTE_DOENCA|LG_VALOR_PREESTABELECIDO|CD_PROCEDIMENTO|CD_TABELA_REFERENCIA|QT_ITEM_EVENTO_INFORMADO|VL_ITEM_EVENTO_INFORMADO|VL_ITEM_PAGO_FORNECEDOR|IND_PACOTE|IND_TABELA_PROPRIA|\n",
      "+-----------------------+------------+--------------------+--------------+--------+------------+---------+-------------------------+-----+-------------+------------------+----------------------+----------------------+------------------+--------------------+---------------+-----+-----+-----+-----+----------------------+-------------+-------------------+------------------------+---------------+--------------------+------------------------+------------------------+-----------------------+----------+------------------+\n",
      "|             2289170847|          AC|                 1.0|       2019-01|  194977|     30 a 39|Masculino|                   120040|MÉDIO|           22|Cooperativa Médica|                120040|                     1|                 2|                   1|             11|  K21| null| null| null|                     0|            0|                  2|                       0| TABELA PRÓPRIA|                   0|                      47|                    2333|                   null|      null|              null|\n",
      "|             2289170847|          AC|                 1.0|       2019-01|  194977|     30 a 39|Masculino|                   120040|MÉDIO|           22|Cooperativa Médica|                120040|                     1|                 2|                   1|             11|  K21| null| null| null|                     0|            0|                  2|                       0|            030|                  63|                     124|                    1244|                   null|      null|              null|\n",
      "|             2289170847|          AC|                 1.0|       2019-01|  194977|     30 a 39|Masculino|                   120040|MÉDIO|           22|Cooperativa Médica|                120040|                     1|                 2|                   1|             11|  K21| null| null| null|                     0|            0|                  2|                       0|            031|                  63|                       8|                    3363|                   null|      null|              null|\n",
      "|             2289170847|          AC|                 1.0|       2019-01|  194977|     30 a 39|Masculino|                   120040|MÉDIO|           22|Cooperativa Médica|                120040|                     1|                 2|                   1|             11|  K21| null| null| null|                     0|            0|                  2|                       0|            029|                  63|                     104|                     509|                   null|      null|              null|\n",
      "|             2289170847|          AC|                 1.0|       2019-01|  194977|     30 a 39|Masculino|                   120040|MÉDIO|           22|Cooperativa Médica|                120040|                     1|                 2|                   1|             11|  K21| null| null| null|                     0|            0|                  2|                       0|       31001360|                  22|                       1|                     746|                   null|      null|              null|\n",
      "+-----------------------+------------+--------------------+--------------+--------+------------+---------+-------------------------+-----+-------------+------------------+----------------------+----------------------+------------------+--------------------+---------------+-----+-----+-----+-----+----------------------+-------------+-------------------+------------------------+---------------+--------------------+------------------------+------------------------+-----------------------+----------+------------------+\n",
      "\n"
     ]
    }
   ],
   "source": [
    "dados.filter('ID_EVENTO_ATENCAO_SAUDE = 2289170847').show()"
   ]
  },
  {
   "cell_type": "code",
   "execution_count": 5,
   "id": "5a39fc29-dd4a-428c-aa5b-6761c2a02150",
   "metadata": {},
   "outputs": [],
   "source": [
    "#Exportando somente para nao precisar realizar a extração do conteudo novamente.\n",
    "dados.write.format('csv').option('header',True).mode('overwrite').option('sep',',').save('/TabCOMP.csv')"
   ]
  },
  {
   "cell_type": "markdown",
   "id": "db3dfcba-4872-440a-8c95-8267143cf9cc",
   "metadata": {},
   "source": [
    "<br><br><br>"
   ]
  },
  {
   "cell_type": "code",
   "execution_count": 4,
   "id": "29ef9b81-df02-42b1-9e31-40c001264d1e",
   "metadata": {},
   "outputs": [],
   "source": [
    "dados = spark.read.csv('TabCOMP',header=True, inferSchema=True, sep=',')"
   ]
  },
  {
   "cell_type": "code",
   "execution_count": 5,
   "id": "4e7feed0-acd4-4713-a8ad-dd23e4577a92",
   "metadata": {},
   "outputs": [
    {
     "name": "stdout",
     "output_type": "stream",
     "text": [
      "39943332\n",
      "31\n"
     ]
    }
   ],
   "source": [
    "print(dados.count())\n",
    "print(len(dados.columns))"
   ]
  },
  {
   "cell_type": "code",
   "execution_count": 6,
   "id": "575faec0-9d13-49f2-a035-782319d88c34",
   "metadata": {},
   "outputs": [
    {
     "name": "stdout",
     "output_type": "stream",
     "text": [
      "+-----------------------+------------+--------------------+--------------+--------+------------+---------+-------------------------+-----+-------------+------------------+----------------------+----------------------+------------------+--------------------+---------------+-----+-----+-----+-----+----------------------+-------------+-------------------+------------------------+---------------+--------------------+------------------------+------------------------+-----------------------+----------+------------------+\n",
      "|ID_EVENTO_ATENCAO_SAUDE|UF_PRESTADOR|TEMPO_DE_PERMANENCIA|ANO_MES_EVENTO|ID_PLANO|FAIXA_ETARIA|     SEXO|CD_MUNICIPIO_BENEFICIARIO|PORTE|CD_MODALIDADE|     NM_MODALIDADE|CD_MUNICIPIO_PRESTADOR|CD_CARATER_ATENDIMENTO|CD_TIPO_INTERNACAO|CD_REGIME_INTERNACAO|CD_MOTIVO_SAIDA|CID_1|CID_2|CID_3|CID_4|QT_DIARIA_ACOMPANHANTE|QT_DIARIA_UTI|IND_ACIDENTE_DOENCA|LG_VALOR_PREESTABELECIDO|CD_PROCEDIMENTO|CD_TABELA_REFERENCIA|QT_ITEM_EVENTO_INFORMADO|VL_ITEM_EVENTO_INFORMADO|VL_ITEM_PAGO_FORNECEDOR|IND_PACOTE|IND_TABELA_PROPRIA|\n",
      "+-----------------------+------------+--------------------+--------------+--------+------------+---------+-------------------------+-----+-------------+------------------+----------------------+----------------------+------------------+--------------------+---------------+-----+-----+-----+-----+----------------------+-------------+-------------------+------------------------+---------------+--------------------+------------------------+------------------------+-----------------------+----------+------------------+\n",
      "|             2193111853|          MG|                 1.0|       2019-01|  208358|     70 a 79|Masculino|                   316940|MÉDIO|           22|Cooperativa Médica|                316940|                     1|                 2|                   1|             12| S761| null| null| null|                     0|            0|                  9|                       0|       30731119|                  22|                       1|                     739|                   null|      null|              null|\n",
      "|             2193111853|          MG|                 1.0|       2019-01|  208358|     70 a 79|Masculino|                   316940|MÉDIO|           22|Cooperativa Médica|                316940|                     1|                 2|                   1|             12| S761| null| null| null|                     0|            0|                  9|                       0|            029|                  63|                      69|                     715|                   null|      null|              null|\n",
      "|             2193111853|          MG|                 1.0|       2019-01|  208358|     70 a 79|Masculino|                   316940|MÉDIO|           22|Cooperativa Médica|                316940|                     1|                 2|                   1|             12| S761| null| null| null|                     0|            0|                  9|                       0|       20103662|                  22|                       1|                      12|                   null|      null|              null|\n",
      "|             2193111853|          MG|                 1.0|       2019-01|  208358|     70 a 79|Masculino|                   316940|MÉDIO|           22|Cooperativa Médica|                316940|                     1|                 2|                   1|             12| S761| null| null| null|                     0|            0|                  9|                       0|            030|                  63|                      47|                     409|                   null|      null|              null|\n",
      "|             2193111853|          MG|                 1.0|       2019-01|  208358|     70 a 79|Masculino|                   316940|MÉDIO|           22|Cooperativa Médica|                316940|                     1|                 2|                   1|             12| S761| null| null| null|                     0|            0|                  9|                       0|            031|                  63|                       7|                     530|                   null|      null|              null|\n",
      "+-----------------------+------------+--------------------+--------------+--------+------------+---------+-------------------------+-----+-------------+------------------+----------------------+----------------------+------------------+--------------------+---------------+-----+-----+-----+-----+----------------------+-------------+-------------------+------------------------+---------------+--------------------+------------------------+------------------------+-----------------------+----------+------------------+\n",
      "only showing top 5 rows\n",
      "\n"
     ]
    }
   ],
   "source": [
    "dados.show(5)"
   ]
  },
  {
   "cell_type": "code",
   "execution_count": 7,
   "id": "dac70a33-c4b0-4203-82c2-c25cd5b32737",
   "metadata": {},
   "outputs": [
    {
     "name": "stdout",
     "output_type": "stream",
     "text": [
      "+-----------------------+------------+--------------------+--------------+--------+------------+---------+-------------------------+-----+-------------+-------------+----------------------+----------------------+------------------+--------------------+---------------+-----+-----+-----+-----+----------------------+-------------+-------------------+------------------------+---------------+--------------------+------------------------+------------------------+-----------------------+----------+------------------+\n",
      "|ID_EVENTO_ATENCAO_SAUDE|UF_PRESTADOR|TEMPO_DE_PERMANENCIA|ANO_MES_EVENTO|ID_PLANO|FAIXA_ETARIA|     SEXO|CD_MUNICIPIO_BENEFICIARIO|PORTE|CD_MODALIDADE|NM_MODALIDADE|CD_MUNICIPIO_PRESTADOR|CD_CARATER_ATENDIMENTO|CD_TIPO_INTERNACAO|CD_REGIME_INTERNACAO|CD_MOTIVO_SAIDA|CID_1|CID_2|CID_3|CID_4|QT_DIARIA_ACOMPANHANTE|QT_DIARIA_UTI|IND_ACIDENTE_DOENCA|LG_VALOR_PREESTABELECIDO|CD_PROCEDIMENTO|CD_TABELA_REFERENCIA|QT_ITEM_EVENTO_INFORMADO|VL_ITEM_EVENTO_INFORMADO|VL_ITEM_PAGO_FORNECEDOR|IND_PACOTE|IND_TABELA_PROPRIA|\n",
      "+-----------------------+------------+--------------------+--------------+--------+------------+---------+-------------------------+-----+-------------+-------------+----------------------+----------------------+------------------+--------------------+---------------+-----+-----+-----+-----+----------------------+-------------+-------------------+------------------------+---------------+--------------------+------------------------+------------------------+-----------------------+----------+------------------+\n",
      "|             2440180990|          RN|                 5.0|       2019-01|  215334|     50 a 59|Masculino|                   240260|MÉDIO|           24|   Autogestão|                240810|                     1|                 1|                   1|             21| null| null| null| null|                     0|            0|                  9|                       0|       40301281|                  22|                       2|                       8|                   null|      null|              null|\n",
      "|             2440186298|          MA|                -1.0|       2019-02|  215191|     10 a 14| Feminino|                   211130|MÉDIO|           24|   Autogestão|                211130|                     1|                 1|                   1|             21| null| null| null| null|                     0|            0|                  9|                       0|            018|                  63|                       1|                      30|                   null|      null|              null|\n",
      "|             2478530149|          RJ|                11.0|       2019-03|  215334|  80 ou mais| Feminino|                   330455|MÉDIO|           24|   Autogestão|                330490|                     1|                 1|                   1|             18| null| null| null| null|                     0|            0|                  9|                       0|       40304639|                  22|                       4|                      23|                   null|      null|              null|\n",
      "|             2478534452|          DF|                11.0|       2019-03|  215285|     70 a 79|Masculino|                   530010|MÉDIO|           24|   Autogestão|                530010|                     1|                 1|                   1|             31| null| null| null| null|                     0|            0|                  9|                       0|       40308391|                  22|                       1|                      25|                   null|      null|              null|\n",
      "|             2478540505|          CE|                11.0|       2019-02|  215334|  80 ou mais|Masculino|                   230580|MÉDIO|           24|   Autogestão|                231290|                     1|                 1|                   1|             21| null| null| null| null|                     0|            0|                  9|                       0|       40302318|                  22|                       1|                       3|                   null|      null|              null|\n",
      "|             2478546384|          GO|                11.0|       2019-03|  215334|     70 a 79|Masculino|                   150613|MÉDIO|           24|   Autogestão|                520870|                     1|                 1|                   1|             21| null| null| null| null|                     0|            0|                  9|                       0|            030|                  63|                       3|                     623|                   null|      null|              null|\n",
      "|             2478584957|          DF|                21.0|       2019-02|  215285|  80 ou mais| Feminino|                   530010|MÉDIO|           24|   Autogestão|                530010|                     1|                 1|                   1|             31| null| null| null| null|                     0|            0|                  9|                       0|            009|                  63|                       2|                      12|                   null|      null|              null|\n",
      "|             2478707456|          PE|                 4.0|       2019-01|  215285|     60 a 69|Masculino|                   261160|MÉDIO|           24|   Autogestão|                261160|                     1|                 1|                   1|             21| null| null| null| null|                     0|            0|                  9|                       0|            030|                  63|                       1|                     135|                      0|         0|                 0|\n",
      "|             2478718728|          DF|                15.0|       2019-02|  215285|     50 a 59|Masculino|                   530010|MÉDIO|           24|   Autogestão|                530010|                     1|                 1|                   1|             21| null| null| null| null|                     0|            0|                  9|                       0|            009|                  63|                       1|                      11|                   null|      null|              null|\n",
      "|             2478720714|          DF|                 9.0|       2019-01|  215624|     70 a 79|Masculino|                   520800|MÉDIO|           24|   Autogestão|                530010|                     1|                 1|                   1|             21| null| null| null| null|                     0|            0|                  9|                       0|       40302318|                  22|                       2|                       4|                   null|      null|              null|\n",
      "|             2493798201|          DF|                null|       2019-02|    null|        null|     null|                     null| null|         null|         null|                  null|                  null|              null|                null|           null| null| null| null| null|                  null|         null|               null|                    null|       31309054|                  22|                    null|                    null|                   null|         1|                 0|\n",
      "|             2495202225|          BA|                null|       2019-03|    null|        null|     null|                     null| null|         null|         null|                  null|                  null|              null|                null|           null| null| null| null| null|                  null|         null|               null|                    null|       20103484|                  22|                    null|                    null|                   null|         1|                 0|\n",
      "|             2515684488|          SP|                null|       2019-05|    null|        null|     null|                     null| null|         null|         null|                  null|                  null|              null|                null|           null| null| null| null| null|                  null|         null|               null|                    null|       40403289|                  22|                    null|                    null|                   null|         1|                 0|\n",
      "|             2520867757|          BA|                null|       2019-03|    null|        null|     null|                     null| null|         null|         null|                  null|                  null|              null|                null|           null| null| null| null| null|                  null|         null|               null|                    null|       20203047|                  22|                    null|                    null|                   null|         1|                 0|\n",
      "|             2562695527|          RJ|                 9.0|       2019-04|  215624|     40 a 49| Feminino|                   330070|MÉDIO|           24|   Autogestão|                330455|                     1|                 1|                   1|             21| null| null| null| null|                     0|            0|                  9|                       0|       40304361|                  22|                       1|                       8|                   null|      null|              null|\n",
      "|             2562697751|          MG|                 8.0|       2019-03|  215285|  80 ou mais| Feminino|                   314800|MÉDIO|           24|   Autogestão|                314800|                     1|                 1|                   1|             21| null| null| null| null|                     0|            0|                  9|                       0|       30801150|                  22|                       1|                     171|                   null|      null|              null|\n",
      "|             2563175494|          BA|                 8.0|       2019-04|  215334|  80 ou mais|Masculino|                   291160|MÉDIO|           24|   Autogestão|                292740|                     1|                 1|                   1|             21| null| null| null| null|                     0|            0|                  9|                       0|       10102019|                  22|                       1|                      41|                   null|      null|              null|\n",
      "|             2580721483|          SP|                null|       2019-05|    null|        null|     null|                     null| null|         null|         null|                  null|                  null|              null|                null|           null| null| null| null| null|                  null|         null|               null|                    null|       30501369|                  22|                    null|                    null|                   null|         1|                 0|\n",
      "|             2622142931|          MG|                11.0|       2019-04|  215334|     70 a 79| Feminino|                   310620|MÉDIO|           24|   Autogestão|                310620|                     1|                 1|                   1|             21| null| null| null| null|                     0|            0|                  9|                       0|            018|                  63|                       3|                      43|                   null|      null|              null|\n",
      "|             2622387312|          SE|                -1.0|       2019-05|  215189|  80 ou mais| Feminino|                   280570|MÉDIO|           24|   Autogestão|                280030|                     1|                 1|                   1|             21| null| null| null| null|                     0|            0|                  9|                       0|            018|                  63|                       1|                      24|                   null|      null|              null|\n",
      "+-----------------------+------------+--------------------+--------------+--------+------------+---------+-------------------------+-----+-------------+-------------+----------------------+----------------------+------------------+--------------------+---------------+-----+-----+-----+-----+----------------------+-------------+-------------------+------------------------+---------------+--------------------+------------------------+------------------------+-----------------------+----------+------------------+\n",
      "only showing top 20 rows\n",
      "\n"
     ]
    }
   ],
   "source": [
    "dados.groupBy(dados.columns).count().filter(\"count > 1\").drop('count').show()"
   ]
  },
  {
   "cell_type": "code",
   "execution_count": 8,
   "id": "d0ae401d-977b-4d72-b524-2b8828c356f9",
   "metadata": {},
   "outputs": [],
   "source": [
    "# FAZER ESCLUIR PERMANTENTE\n",
    "dados = dados.dropDuplicates()"
   ]
  },
  {
   "cell_type": "code",
   "execution_count": 9,
   "id": "87fc0dfb-17df-45c1-afc4-6184068a4013",
   "metadata": {},
   "outputs": [
    {
     "name": "stdout",
     "output_type": "stream",
     "text": [
      "+-----------------------+------------+--------------------+--------------+--------+------------+----+-------------------------+-----+-------------+-------------+----------------------+----------------------+------------------+--------------------+---------------+-----+-----+-----+-----+----------------------+-------------+-------------------+------------------------+---------------+--------------------+------------------------+------------------------+-----------------------+----------+------------------+\n",
      "|ID_EVENTO_ATENCAO_SAUDE|UF_PRESTADOR|TEMPO_DE_PERMANENCIA|ANO_MES_EVENTO|ID_PLANO|FAIXA_ETARIA|SEXO|CD_MUNICIPIO_BENEFICIARIO|PORTE|CD_MODALIDADE|NM_MODALIDADE|CD_MUNICIPIO_PRESTADOR|CD_CARATER_ATENDIMENTO|CD_TIPO_INTERNACAO|CD_REGIME_INTERNACAO|CD_MOTIVO_SAIDA|CID_1|CID_2|CID_3|CID_4|QT_DIARIA_ACOMPANHANTE|QT_DIARIA_UTI|IND_ACIDENTE_DOENCA|LG_VALOR_PREESTABELECIDO|CD_PROCEDIMENTO|CD_TABELA_REFERENCIA|QT_ITEM_EVENTO_INFORMADO|VL_ITEM_EVENTO_INFORMADO|VL_ITEM_PAGO_FORNECEDOR|IND_PACOTE|IND_TABELA_PROPRIA|\n",
      "+-----------------------+------------+--------------------+--------------+--------+------------+----+-------------------------+-----+-------------+-------------+----------------------+----------------------+------------------+--------------------+---------------+-----+-----+-----+-----+----------------------+-------------+-------------------+------------------------+---------------+--------------------+------------------------+------------------------+-----------------------+----------+------------------+\n",
      "+-----------------------+------------+--------------------+--------------+--------+------------+----+-------------------------+-----+-------------+-------------+----------------------+----------------------+------------------+--------------------+---------------+-----+-----+-----+-----+----------------------+-------------+-------------------+------------------------+---------------+--------------------+------------------------+------------------------+-----------------------+----------+------------------+\n",
      "\n"
     ]
    }
   ],
   "source": [
    "# Tem que retornar vazio\n",
    "dados.groupBy(dados.columns).count().filter(\"count > 1\").drop('count').show()"
   ]
  },
  {
   "cell_type": "code",
   "execution_count": null,
   "id": "877229ed-e7c1-41a3-a353-f5f42a262559",
   "metadata": {},
   "outputs": [],
   "source": [
    "from pyspark.sql.functions import col,isnan, when, count"
   ]
  },
  {
   "cell_type": "code",
   "execution_count": 17,
   "id": "342f526a-be0f-4084-a913-aab25f3da9aa",
   "metadata": {},
   "outputs": [
    {
     "name": "stdout",
     "output_type": "stream",
     "text": [
      "+-----------------------+------------+--------------------+--------------+--------+------------+------+-------------------------+------+-------------+-------------+----------------------+----------------------+------------------+--------------------+---------------+--------+--------+--------+--------+----------------------+-------------+-------------------+------------------------+---------------+--------------------+------------------------+------------------------+-----------------------+----------+------------------+\n",
      "|ID_EVENTO_ATENCAO_SAUDE|UF_PRESTADOR|TEMPO_DE_PERMANENCIA|ANO_MES_EVENTO|ID_PLANO|FAIXA_ETARIA|  SEXO|CD_MUNICIPIO_BENEFICIARIO| PORTE|CD_MODALIDADE|NM_MODALIDADE|CD_MUNICIPIO_PRESTADOR|CD_CARATER_ATENDIMENTO|CD_TIPO_INTERNACAO|CD_REGIME_INTERNACAO|CD_MOTIVO_SAIDA|   CID_1|   CID_2|   CID_3|   CID_4|QT_DIARIA_ACOMPANHANTE|QT_DIARIA_UTI|IND_ACIDENTE_DOENCA|LG_VALOR_PREESTABELECIDO|CD_PROCEDIMENTO|CD_TABELA_REFERENCIA|QT_ITEM_EVENTO_INFORMADO|VL_ITEM_EVENTO_INFORMADO|VL_ITEM_PAGO_FORNECEDOR|IND_PACOTE|IND_TABELA_PROPRIA|\n",
      "+-----------------------+------------+--------------------+--------------+--------+------------+------+-------------------------+------+-------------+-------------+----------------------+----------------------+------------------+--------------------+---------------+--------+--------+--------+--------+----------------------+-------------+-------------------+------------------------+---------------+--------------------+------------------------+------------------------+-----------------------+----------+------------------+\n",
      "|                      0|           0|              370804|             0|  419487|      419487|960469|                   976531|419487|       419487|       419487|                431591|                429919|            425806|              744597|         421292|10317649|39071610|39643471|39663371|                419487|       419487|            5042643|                  419487|          16940|               16940|                  394790|                  804342|               35577391|  35220681|          35220681|\n",
      "+-----------------------+------------+--------------------+--------------+--------+------------+------+-------------------------+------+-------------+-------------+----------------------+----------------------+------------------+--------------------+---------------+--------+--------+--------+--------+----------------------+-------------+-------------------+------------------------+---------------+--------------------+------------------------+------------------------+-----------------------+----------+------------------+\n",
      "\n"
     ]
    }
   ],
   "source": [
    "dados.select([count(when(isnan(c) | col(c).isNull(), c)).alias(c) for c in dados.columns]).show()"
   ]
  },
  {
   "cell_type": "code",
   "execution_count": null,
   "id": "f933c029-da7e-49b1-88e1-2920ce2669e3",
   "metadata": {},
   "outputs": [],
   "source": []
  }
 ],
 "metadata": {
  "kernelspec": {
   "display_name": "Python 3 (ipykernel)",
   "language": "python",
   "name": "python3"
  },
  "language_info": {
   "codemirror_mode": {
    "name": "ipython",
    "version": 3
   },
   "file_extension": ".py",
   "mimetype": "text/x-python",
   "name": "python",
   "nbconvert_exporter": "python",
   "pygments_lexer": "ipython3",
   "version": "3.9.7"
  }
 },
 "nbformat": 4,
 "nbformat_minor": 5
}
